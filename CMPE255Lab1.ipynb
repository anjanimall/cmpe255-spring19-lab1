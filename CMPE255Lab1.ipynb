{
 "cells": [
  {
   "cell_type": "code",
   "execution_count": 127,
   "metadata": {
    "collapsed": true
   },
   "outputs": [],
   "source": [
    "matplotlib inline"
   ]
  },
  {
   "cell_type": "code",
   "execution_count": 128,
   "metadata": {},
   "outputs": [
    {
     "data": {
      "image/png": "[encoded data removed]",
      "text/plain": [
       "<matplotlib.figure.Figure at 0x1103d8588>"
      ]
     },
     "metadata": {},
     "output_type": "display_data"
    },
    {
     "data": {
      "image/png": "[encoded data removed]",
      "text/plain": [
       "<matplotlib.figure.Figure at 0x11046af98>"
      ]
     },
     "metadata": {},
     "output_type": "display_data"
    }
   ],
   "source": [
    "from matplotlib import pyplot\n",
    "\n",
    "# https://tradingeconomics.com/united-states/gdp\n",
    "years= [2010, 2011, 2012, 2013, 2014, 2015, 2016, 2017]\n",
    "gdp = [14964.37, 15517.93, 16155.26, 16691.52, 17427.61, 18120.71, 18624.48, 19390.6]\n",
    "\n",
    "def line_chart():\n",
    "    pyplot.plot(years, gdp, color='green', marker='o', linestyle='solid')\n",
    "    pyplot.title(\"Nominal GDP of United States\")\n",
    "    pyplot.ylabel(\"$ in Billions\")\n",
    "    pyplot.show()\n",
    "\n",
    "def bar_chart():\n",
    "    pyplot.bar(years, gdp)\n",
    "    pyplot.title(\"Nominal GDP of United States\")\n",
    "    pyplot.ylabel(\"$ in Billions\")\n",
    "    pyplot.show()\n",
    "\n",
    "line_chart()\n",
    "bar_chart()"
   ]
  },
  {
   "cell_type": "code",
   "execution_count": 129,
   "metadata": {},
   "outputs": [],
   "source": [
    "users =[\n",
    "    { \"id\":0, \"name\": \"Hero\" },\n",
    "    { \"id\":1, \"name\": \"Dunn\" },\n",
    "    { \"id\":2, \"name\": \"Sue\" },\n",
    "    { \"id\":3, \"name\": \"Chi\" },\n",
    "    { \"id\":4, \"name\": \"Thor\" },\n",
    "    { \"id\":5, \"name\": \"Clive\" },\n",
    "    { \"id\":6, \"name\": \"Hicks\" },\n",
    "    { \"id\":7, \"name\": \"Devin\" },\n",
    "    { \"id\":8, \"name\": \"Kate\" },\n",
    "    { \"id\":9, \"name\": \"Klein\" }    \n",
    "]\n",
    "\n",
    "friendship = [\n",
    "    (0, 1),\n",
    "    (0, 2),\n",
    "    (1, 2),\n",
    "    (1, 3),\n",
    "    (2, 3),\n",
    "    (3, 4),\n",
    "    (4, 5),\n",
    "    (5, 6),\n",
    "    (6, 7),\n",
    "    (6, 8),\n",
    "    (7, 8),\n",
    "    (8, 9)\n",
    "]"
   ]
  },
  {
   "cell_type": "code",
   "execution_count": 130,
   "metadata": {},
   "outputs": [],
   "source": [
    "from collections import OrderedDict\n",
    "\n",
    "def num_friends(user):\n",
    "    '''\n",
    "    Find number of friends for a given user\n",
    "    '''\n",
    "    counter = num_friends_helper(user)\n",
    "    print((str(users[user][\"name\"])) + \" has \" + str(counter) + \" friends.\")\n",
    "    \n",
    "    pass\n",
    "\n",
    "\n",
    "def sort_by_num_friends():\n",
    "    '''\n",
    "    Sort from \"most friends\" to \"least friends\"\n",
    "    '''\n",
    "    dict = {}\n",
    "    for usr in users:\n",
    "        dict[str(usr[\"name\"])] = num_friends_helper(usr[\"id\"])\n",
    "    \n",
    "    final_dict = (sorted(dict.items(), key=lambda t: t[1], reverse=True))\n",
    "    for a, b in final_dict:\n",
    "        print(a, b)\n",
    "    \n",
    "    pass\n",
    "\n",
    "\n",
    "def num_friends_helper(user):\n",
    "    counter = 0\n",
    "    for frnd in friendship:\n",
    "        if user in frnd:\n",
    "            counter += 1\n",
    "    return counter"
   ]
  },
  {
   "cell_type": "code",
   "execution_count": 131,
   "metadata": {},
   "outputs": [
    {
     "name": "stdout",
     "output_type": "stream",
     "text": [
      "Dunn has 3 friends.\n",
      "Klein has 1 friends.\n"
     ]
    }
   ],
   "source": [
    "num_friends(1)\n",
    "num_friends(9)"
   ]
  },
  {
   "cell_type": "code",
   "execution_count": 132,
   "metadata": {},
   "outputs": [
    {
     "name": "stdout",
     "output_type": "stream",
     "text": [
      "Dunn 3\n",
      "Sue 3\n",
      "Chi 3\n",
      "Hicks 3\n",
      "Kate 3\n",
      "Hero 2\n",
      "Thor 2\n",
      "Clive 2\n",
      "Devin 2\n",
      "Klein 1\n"
     ]
    }
   ],
   "source": [
    "sort_by_num_friends()"
   ]
  },
  {
   "cell_type": "code",
   "execution_count": null,
   "metadata": {
    "collapsed": true
   },
   "outputs": [],
   "source": []
  }
 ],
 "metadata": {},
 "nbformat": 4,
 "nbformat_minor": 2
}
